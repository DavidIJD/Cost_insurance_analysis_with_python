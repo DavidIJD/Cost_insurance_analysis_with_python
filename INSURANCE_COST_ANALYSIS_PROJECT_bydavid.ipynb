{
 "cells": [
  {
   "cell_type": "code",
   "execution_count": 7,
   "id": "98ca925b-a545-40a3-839f-03567e7643d5",
   "metadata": {},
   "outputs": [],
   "source": [
    "#Project: \"Comprehensive Insurance Cost Analysis and Prediction\" by DAVID"
   ]
  },
  {
   "cell_type": "code",
   "execution_count": 8,
   "id": "42dcc719-bdf9-4e78-89b3-133e243b0752",
   "metadata": {},
   "outputs": [],
   "source": [
    "import pandas as pd"
   ]
  },
  {
   "cell_type": "code",
   "execution_count": 9,
   "id": "54fd6c28-8aba-43b0-a9c1-a85feb30d5c2",
   "metadata": {},
   "outputs": [],
   "source": [
    "#Requirement practice for certification in Data Analysis with Python IBM."
   ]
  },
  {
   "cell_type": "code",
   "execution_count": 10,
   "id": "8969927a-80b6-40a8-86c4-e524388eb41a",
   "metadata": {},
   "outputs": [],
   "source": [
    "#Objective: Analyze and predict insurance costs based on various attributes in the dataset."
   ]
  },
  {
   "cell_type": "code",
   "execution_count": 11,
   "id": "ea43caed-d184-4ec6-b219-9c51fd4f2940",
   "metadata": {},
   "outputs": [],
   "source": [
    "#INSURANCE COST ANALYSIS"
   ]
  },
  {
   "cell_type": "code",
   "execution_count": 12,
   "id": "2b636e27-1861-4c31-88bf-5769c9da7920",
   "metadata": {},
   "outputs": [],
   "source": [
    "#Load real-life data into a pandas DataFrame, clean blank entries, perform EDA to identify key attributes affecting charges, develop single and multi-variable Linear Regression models, and refine with Ridge Regression."
   ]
  },
  {
   "cell_type": "code",
   "execution_count": 13,
   "id": "a82bb439-c158-4859-8ada-cac483d46bb6",
   "metadata": {},
   "outputs": [],
   "source": [
    "#Pandas is used for data management, NumPy handles mathematical operations, scikit-learn supports machine learning and pipelines, Seaborn aids in data visualization, and Matplotlib provides additional plotting capabilities for in-depth analysis."
   ]
  },
  {
   "cell_type": "code",
   "execution_count": 14,
   "id": "5b17e43b-92c1-487a-83c3-c192310a9999",
   "metadata": {},
   "outputs": [],
   "source": [
    "#All libraries needed for this project has been pre-installed.\n",
    "#I will proceed with importing required libraries for this project\n",
    "import pandas as pd\n",
    "import matplotlib.pyplot as plt\n",
    "import numpy as np\n",
    "import seaborn as sns\n",
    "from sklearn.pipeline import Pipeline\n",
    "from sklearn.preprocessing import StandardScaler, PolynomialFeatures\n",
    "from sklearn.linear_model import LinearRegression, Ridge\n",
    "from sklearn.metrics import mean_squared_error, r2_score\n",
    "from sklearn.model_selection import cross_val_score, train_test_split"
   ]
  },
  {
   "cell_type": "code",
   "execution_count": 15,
   "id": "8aa8aef8-9167-498c-87c1-ef0242dfaeaa",
   "metadata": {},
   "outputs": [],
   "source": [
    "path = 'https://cf-courses-data.s3.us.cloud-object-storage.appdomain.cloud/IBMDeveloperSkillsNetwork-DA0101EN-Coursera/medical_insurance_dataset.csv'"
   ]
  },
  {
   "cell_type": "code",
   "execution_count": 16,
   "id": "56c0fccc-3dff-4cb5-b99f-b5760e4facf7",
   "metadata": {},
   "outputs": [
    {
     "name": "stdout",
     "output_type": "stream",
     "text": [
      "    0  1       2  3  4  5            6\n",
      "0  19  1  27.900  0  1  3  16884.92400\n",
      "1  18  2  33.770  1  0  4   1725.55230\n",
      "2  28  2  33.000  3  0  4   4449.46200\n",
      "3  33  2  22.705  0  0  1  21984.47061\n",
      "4  32  2  28.880  0  0  1   3866.85520\n",
      "5  31  1  25.740  0  ?  4   3756.62160\n",
      "6  46  1  33.440  1  0  4   8240.58960\n",
      "7  37  1  27.740  3  0  1   7281.50560\n",
      "8  37  2  29.830  2  0  2   6406.41070\n",
      "9  60  1  25.840  0  0  1  28923.13692\n"
     ]
    }
   ],
   "source": [
    "#There are no headers in the columns imported\n",
    "df = pd.read_csv(path, header=None)\n",
    "print(df.head(10))"
   ]
  },
  {
   "cell_type": "code",
   "execution_count": 17,
   "id": "7911b1af-4ee4-4c91-90eb-3f10c768f9d3",
   "metadata": {},
   "outputs": [],
   "source": [
    "#The first step is to rename the headers using the parameters provided in the metadatapage\n",
    "headers = ['age', 'gender', 'body_mass_index', 'no_of_children', 'smoker', 'region', 'charges']\n",
    "df.columns = headers"
   ]
  },
  {
   "cell_type": "code",
   "execution_count": 18,
   "id": "1a639898-d119-411a-b8ab-0e9e86a86f08",
   "metadata": {},
   "outputs": [
    {
     "name": "stdout",
     "output_type": "stream",
     "text": [
      "<class 'pandas.core.frame.DataFrame'>\n",
      "RangeIndex: 2772 entries, 0 to 2771\n",
      "Data columns (total 7 columns):\n",
      " #   Column           Non-Null Count  Dtype  \n",
      "---  ------           --------------  -----  \n",
      " 0   age              2772 non-null   object \n",
      " 1   gender           2772 non-null   int64  \n",
      " 2   body_mass_index  2772 non-null   float64\n",
      " 3   no_of_children   2772 non-null   int64  \n",
      " 4   smoker           2772 non-null   object \n",
      " 5   region           2772 non-null   int64  \n",
      " 6   charges          2772 non-null   float64\n",
      "dtypes: float64(2), int64(3), object(2)\n",
      "memory usage: 151.7+ KB\n",
      "None\n"
     ]
    }
   ],
   "source": [
    "#Printing data information will give me a general overview of the data type\n",
    "print(df.info())"
   ]
  },
  {
   "cell_type": "code",
   "execution_count": 19,
   "id": "abf6d33d-be05-47d4-80c7-22489236caf5",
   "metadata": {},
   "outputs": [],
   "source": [
    "#Based on the table, i will be replacing (?) as seen in most entries  with NaN \n",
    "#In doing this, i can further convert both datatypes for age and smoker to integers\n",
    "df.replace('?', np.nan, inplace = True)"
   ]
  },
  {
   "cell_type": "code",
   "execution_count": 20,
   "id": "93741754-cb18-46ae-a8e2-17ed57fd6809",
   "metadata": {},
   "outputs": [],
   "source": [
    "summary = df.describe()"
   ]
  },
  {
   "cell_type": "code",
   "execution_count": 21,
   "id": "1d226911-18d1-429f-b4c4-edf0af4b157a",
   "metadata": {},
   "outputs": [
    {
     "name": "stdout",
     "output_type": "stream",
     "text": [
      "            gender  body_mass_index  no_of_children       region       charges\n",
      "count  2772.000000      2772.000000     2772.000000  2772.000000   2772.000000\n",
      "mean      1.507215        30.701349        1.101732     2.559885  13261.369959\n",
      "std       0.500038         6.129449        1.214806     1.130761  12151.768945\n",
      "min       1.000000        15.960000        0.000000     1.000000   1121.873900\n",
      "25%       1.000000        26.220000        0.000000     2.000000   4687.797000\n",
      "50%       2.000000        30.447500        1.000000     3.000000   9333.014350\n",
      "75%       2.000000        34.770000        2.000000     4.000000  16577.779500\n",
      "max       2.000000        53.130000        5.000000     4.000000  63770.428010\n"
     ]
    }
   ],
   "source": [
    "print(summary)"
   ]
  },
  {
   "cell_type": "code",
   "execution_count": 22,
   "id": "7a882006-8637-4926-b277-cb78a4244734",
   "metadata": {},
   "outputs": [
    {
     "name": "stdout",
     "output_type": "stream",
     "text": [
      "         age       gender  body_mass_index  no_of_children smoker  \\\n",
      "count   2768  2772.000000      2772.000000     2772.000000   2765   \n",
      "unique    47          NaN              NaN             NaN      2   \n",
      "top       18          NaN              NaN             NaN      0   \n",
      "freq     148          NaN              NaN             NaN   2201   \n",
      "mean     NaN     1.507215        30.701349        1.101732    NaN   \n",
      "std      NaN     0.500038         6.129449        1.214806    NaN   \n",
      "min      NaN     1.000000        15.960000        0.000000    NaN   \n",
      "25%      NaN     1.000000        26.220000        0.000000    NaN   \n",
      "50%      NaN     2.000000        30.447500        1.000000    NaN   \n",
      "75%      NaN     2.000000        34.770000        2.000000    NaN   \n",
      "max      NaN     2.000000        53.130000        5.000000    NaN   \n",
      "\n",
      "             region       charges  \n",
      "count   2772.000000   2772.000000  \n",
      "unique          NaN           NaN  \n",
      "top             NaN           NaN  \n",
      "freq            NaN           NaN  \n",
      "mean       2.559885  13261.369959  \n",
      "std        1.130761  12151.768945  \n",
      "min        1.000000   1121.873900  \n",
      "25%        2.000000   4687.797000  \n",
      "50%        3.000000   9333.014350  \n",
      "75%        4.000000  16577.779500  \n",
      "max        4.000000  63770.428010  \n"
     ]
    }
   ],
   "source": [
    "#Two columns are missing, the age and the smoker column due to the dtype as object.\n",
    "#I can use the include all function to still get the summary of all columns though. \n",
    "summary = df.describe(include='all')\n",
    "print(summary)"
   ]
  },
  {
   "cell_type": "code",
   "execution_count": 23,
   "id": "abe2b6d9-bd33-483b-b7ec-d0dc8307fe0b",
   "metadata": {},
   "outputs": [
    {
     "name": "stdout",
     "output_type": "stream",
     "text": [
      "<class 'pandas.core.frame.DataFrame'>\n",
      "RangeIndex: 2772 entries, 0 to 2771\n",
      "Data columns (total 7 columns):\n",
      " #   Column           Non-Null Count  Dtype  \n",
      "---  ------           --------------  -----  \n",
      " 0   age              2772 non-null   int64  \n",
      " 1   gender           2772 non-null   int64  \n",
      " 2   body_mass_index  2772 non-null   float64\n",
      " 3   no_of_children   2772 non-null   int64  \n",
      " 4   smoker           2772 non-null   int64  \n",
      " 5   region           2772 non-null   int64  \n",
      " 6   charges          2772 non-null   float64\n",
      "dtypes: float64(2), int64(5)\n",
      "memory usage: 151.7 KB\n",
      "None\n"
     ]
    },
    {
     "name": "stderr",
     "output_type": "stream",
     "text": [
      "/var/folders/b7/qm354wp578zc04vwg8_4shxh0000gn/T/ipykernel_49408/1537369942.py:5: FutureWarning: A value is trying to be set on a copy of a DataFrame or Series through chained assignment using an inplace method.\n",
      "The behavior will change in pandas 3.0. This inplace method will never work because the intermediate object on which we are setting values always behaves as a copy.\n",
      "\n",
      "For example, when doing 'df[col].method(value, inplace=True)', try using 'df.method({col: value}, inplace=True)' or df[col] = df[col].method(value) instead, to perform the operation inplace on the original object.\n",
      "\n",
      "\n",
      "  df[\"smoker\"].replace(np.nan, is_smoker, inplace=True)\n",
      "/var/folders/b7/qm354wp578zc04vwg8_4shxh0000gn/T/ipykernel_49408/1537369942.py:9: FutureWarning: A value is trying to be set on a copy of a DataFrame or Series through chained assignment using an inplace method.\n",
      "The behavior will change in pandas 3.0. This inplace method will never work because the intermediate object on which we are setting values always behaves as a copy.\n",
      "\n",
      "For example, when doing 'df[col].method(value, inplace=True)', try using 'df.method({col: value}, inplace=True)' or df[col] = df[col].method(value) instead, to perform the operation inplace on the original object.\n",
      "\n",
      "\n",
      "  df[\"age\"].replace(np.nan, mean_age, inplace=True)\n"
     ]
    }
   ],
   "source": [
    "#Replace missing values: using the mean for continuous attributes (e.g., age) and the mode for categorical attributes (e.g., smoker).\n",
    "# smoker is a categorical attribute, replace with most frequent entry\n",
    "#Handling missing data by replacing with mean or mode ensures completeness and accuracy in analysis, preventing bias and maintaining model performance.\n",
    "is_smoker = df['smoker'].value_counts().idxmax()\n",
    "df[\"smoker\"].replace(np.nan, is_smoker, inplace=True)\n",
    "\n",
    "# age is a continuous variable, replace with mean age\n",
    "mean_age = df['age'].astype('float').mean(axis=0)\n",
    "df[\"age\"].replace(np.nan, mean_age, inplace=True)\n",
    "\n",
    "# Update data types\n",
    "df[[\"age\",\"smoker\"]] = df[[\"age\",\"smoker\"]].astype(\"int\")\n",
    "\n",
    "print(df.info())"
   ]
  },
  {
   "cell_type": "code",
   "execution_count": 24,
   "id": "2ced8bb3-2451-481b-ac65-0f98b1a8d253",
   "metadata": {},
   "outputs": [
    {
     "name": "stdout",
     "output_type": "stream",
     "text": [
      "    age  gender  body_mass_index  no_of_children  smoker  region      charges\n",
      "0    19       1           27.900               0       1       3  16884.92400\n",
      "1    18       2           33.770               1       0       4   1725.55230\n",
      "2    28       2           33.000               3       0       4   4449.46200\n",
      "3    33       2           22.705               0       0       1  21984.47061\n",
      "4    32       2           28.880               0       0       1   3866.85520\n",
      "5    31       1           25.740               0       0       4   3756.62160\n",
      "6    46       1           33.440               1       0       4   8240.58960\n",
      "7    37       1           27.740               3       0       1   7281.50560\n",
      "8    37       2           29.830               2       0       2   6406.41070\n",
      "9    60       1           25.840               0       0       1  28923.13692\n",
      "10   25       2           26.220               0       0       2   2721.32080\n",
      "11   62       1           26.290               0       1       4  27808.72510\n",
      "12   23       2           34.400               0       0       3   1826.84300\n",
      "13   56       1           39.820               0       0       4  11090.71780\n",
      "14   27       2           42.130               0       1       4  39611.75770\n",
      "15   19       2           24.600               1       0       3   1837.23700\n",
      "16   52       1           30.780               1       0       2  10797.33620\n",
      "17   23       2           23.845               0       0       2   2395.17155\n",
      "18   56       2           40.300               0       0       3  10602.38500\n",
      "19   30       2           35.300               0       1       3  36837.46700\n",
      "20   60       1           36.005               0       0       2  13228.84695\n",
      "21   30       1           32.400               1       0       3   4149.73600\n",
      "22   18       2           34.100               0       0       4   1137.01100\n",
      "23   34       1           31.920               1       1       2  37701.87680\n",
      "24   37       2           28.025               2       0       1   6203.90175\n",
      "25   59       1           27.720               3       0       4  14001.13380\n",
      "26   63       1           23.085               0       0       2  14451.83515\n",
      "27   55       1           32.775               2       0       1  12268.63225\n",
      "28   23       2           17.385               1       0       1   2775.19215\n",
      "29   31       2           36.300               2       1       3  38711.00000\n",
      "30   22       2           35.600               0       1       3  35585.57600\n",
      "31   18       1           26.315               0       0       2   2198.18985\n",
      "32   19       1           28.600               5       0       3   4687.79700\n",
      "33   63       2           28.310               0       0       1  13770.09790\n",
      "34   28       2           36.400               1       1       3  51194.55914\n",
      "      age  gender  body_mass_index  no_of_children  smoker  region  \\\n",
      "2737   22       1           21.280               3       0       1   \n",
      "2738   28       1           33.110               0       0       4   \n",
      "2739   18       2           33.330               0       0       4   \n",
      "2740   28       2           24.300               5       0       3   \n",
      "2741   45       1           25.700               3       0       3   \n",
      "2742   33       2           29.400               4       0       3   \n",
      "2743   18       1           39.820               0       0       4   \n",
      "2744   32       2           33.630               1       1       2   \n",
      "2745   19       1           23.400               2       0       3   \n",
      "2746   57       1           20.100               1       0       3   \n",
      "2747   62       1           39.160               0       0       4   \n",
      "2748   41       2           34.210               1       0       4   \n",
      "2749   26       2           46.530               1       0       4   \n",
      "2750   39       1           32.500               1       0       3   \n",
      "2751   46       2           25.800               5       0       3   \n",
      "2752   45       1           35.300               0       0       3   \n",
      "2753   32       2           37.180               2       0       4   \n",
      "2754   59       1           27.500               0       0       3   \n",
      "2755   44       2           29.735               2       0       2   \n",
      "2756   39       1           24.225               5       0       1   \n",
      "2757   18       2           26.180               2       0       4   \n",
      "2758   53       2           29.480               0       0       4   \n",
      "2759   18       2           23.210               0       0       4   \n",
      "2760   26       1           34.200               2       0       3   \n",
      "2761   54       1           35.815               3       0       1   \n",
      "2762   21       1           32.680               2       0       1   \n",
      "2763   51       2           37.000               0       0       3   \n",
      "2764   22       1           31.020               3       1       4   \n",
      "2765   47       2           36.080               1       1       4   \n",
      "2766   18       2           23.320               1       0       4   \n",
      "2767   47       1           45.320               1       0       4   \n",
      "2768   21       1           34.600               0       0       3   \n",
      "2769   19       2           26.030               1       1       1   \n",
      "2770   23       2           18.715               0       0       1   \n",
      "2771   54       2           31.600               0       0       3   \n",
      "\n",
      "          charges  \n",
      "2737   4296.27120  \n",
      "2738   3171.61490  \n",
      "2739   1135.94070  \n",
      "2740   5615.36900  \n",
      "2741   9101.79800  \n",
      "2742   6059.17300  \n",
      "2743   1633.96180  \n",
      "2744  37607.52770  \n",
      "2745   2913.56900  \n",
      "2746  12032.32600  \n",
      "2747  13470.80440  \n",
      "2748   6289.75490  \n",
      "2749   2927.06470  \n",
      "2750   6238.29800  \n",
      "2751  10096.97000  \n",
      "2752   7348.14200  \n",
      "2753   4673.39220  \n",
      "2754  12233.82800  \n",
      "2755  32108.66282  \n",
      "2756   8965.79575  \n",
      "2757   2304.00220  \n",
      "2758   9487.64420  \n",
      "2759   1121.87390  \n",
      "2760   3987.92600  \n",
      "2761  12495.29085  \n",
      "2762  26018.95052  \n",
      "2763   8798.59300  \n",
      "2764  35595.58980  \n",
      "2765  42211.13820  \n",
      "2766   1711.02680  \n",
      "2767   8569.86180  \n",
      "2768   2020.17700  \n",
      "2769  16450.89470  \n",
      "2770  21595.38229  \n",
      "2771   9850.43200  \n"
     ]
    }
   ],
   "source": [
    "#To be sure about the effectiveness of the commands inputed, i will check the head and tails again since we have the right datatypes for each column based on the analysis.\n",
    "print(df.head(35))\n",
    "print(df.tail(35))"
   ]
  },
  {
   "cell_type": "code",
   "execution_count": 25,
   "id": "a9ddadf7-9110-4e4a-9796-99091feef20c",
   "metadata": {},
   "outputs": [
    {
     "name": "stdout",
     "output_type": "stream",
     "text": [
      "   age  gender  body_mass_index  no_of_children  smoker  region   charges\n",
      "0   19       1           27.900               0       1       3  16884.92\n",
      "1   18       2           33.770               1       0       4   1725.55\n",
      "2   28       2           33.000               3       0       4   4449.46\n",
      "3   33       2           22.705               0       0       1  21984.47\n",
      "4   32       2           28.880               0       0       1   3866.86\n"
     ]
    }
   ],
   "source": [
    "#Round the charges column to 2 decimal places and verify by printing the first 5 rows\n",
    "df[[\"charges\"]] = np.round(df[[\"charges\"]],2)\n",
    "print(df.head(5))"
   ]
  },
  {
   "cell_type": "code",
   "execution_count": 26,
   "id": "4ef28fd4-189c-4468-abfe-dcfc362fbf72",
   "metadata": {},
   "outputs": [
    {
     "data": {
      "text/plain": [
       "(0.0, 66902.85800000001)"
      ]
     },
     "execution_count": 26,
     "metadata": {},
     "output_type": "execute_result"
    },
    {
     "data": {
      "image/png": "[encoded data removed]",
      "text/plain": [
       "<Figure size 640x480 with 1 Axes>"
      ]
     },
     "metadata": {},
     "output_type": "display_data"
    }
   ],
   "source": [
    "#Created a regression plot to analyze the relationship between charges and body mass index (BMI).\n",
    "sns.regplot(x=\"body_mass_index\", y=\"charges\", data=df, line_kws={\"color\": \"red\"})\n",
    "plt.ylim(0,)"
   ]
  },
  {
   "cell_type": "code",
   "execution_count": 27,
   "id": "fb16037f-6b4b-4a98-be89-1e9351d50531",
   "metadata": {},
   "outputs": [
    {
     "data": {
      "text/plain": [
       "<Axes: xlabel='smoker', ylabel='charges'>"
      ]
     },
     "execution_count": 27,
     "metadata": {},
     "output_type": "execute_result"
    },
    {
     "data": {
      "image/png": "[encoded data removed]",
      "text/plain": [
       "<Figure size 640x480 with 1 Axes>"
      ]
     },
     "metadata": {},
     "output_type": "display_data"
    }
   ],
   "source": [
    "#Implement the box plot for charges with respect to smoker\n",
    "sns.boxplot(x=\"smoker\", y=\"charges\", data=df)"
   ]
  },
  {
   "cell_type": "code",
   "execution_count": 29,
   "id": "4aad48b8-4419-4126-9181-fc3a573df318",
   "metadata": {},
   "outputs": [
    {
     "name": "stdout",
     "output_type": "stream",
     "text": [
      "                      age    gender  body_mass_index  no_of_children  \\\n",
      "age              1.000000 -0.026046         0.113048        0.037574   \n",
      "gender          -0.026046  1.000000         0.042924        0.016020   \n",
      "body_mass_index  0.113048  0.042924         1.000000       -0.001492   \n",
      "no_of_children   0.037574  0.016020        -0.001492        1.000000   \n",
      "smoker          -0.023286  0.082326         0.011489        0.006362   \n",
      "region          -0.007167  0.022213         0.271119       -0.025717   \n",
      "charges          0.298624  0.062837         0.199846        0.066442   \n",
      "\n",
      "                   smoker    region   charges  \n",
      "age             -0.023286 -0.007167  0.298624  \n",
      "gender           0.082326  0.022213  0.062837  \n",
      "body_mass_index  0.011489  0.271119  0.199846  \n",
      "no_of_children   0.006362 -0.025717  0.066442  \n",
      "smoker           1.000000  0.054077  0.788783  \n",
      "region           0.054077  1.000000  0.054058  \n",
      "charges          0.788783  0.054058  1.000000  \n"
     ]
    }
   ],
   "source": [
    "#Correlation matrix of tha dataset\n",
    "print(df.corr())"
   ]
  },
  {
   "cell_type": "code",
   "execution_count": 30,
   "id": "f5887c43-e7d2-48ea-a3b4-d1da1047f815",
   "metadata": {},
   "outputs": [
    {
     "name": "stdout",
     "output_type": "stream",
     "text": [
      "0.6221791733924185\n"
     ]
    }
   ],
   "source": [
    "#The strongest predictor of insurance charges in this dataset is whether the individual is a smoker, followed by age and BMI. Gender, number of children, and region have minimal impact on insurance charges.\n",
    "#This will imply using linear reqression model with smoker attributes, we can predict the charges.\n",
    "X = df[['smoker']]\n",
    "Y = df['charges']\n",
    "lm = LinearRegression()\n",
    "lm.fit(X,Y)\n",
    "print(lm.score(X, Y))"
   ]
  },
  {
   "cell_type": "code",
   "execution_count": 31,
   "id": "630443a4-0aef-4b71-afb6-39a515835f9c",
   "metadata": {},
   "outputs": [],
   "source": [
    "#The number 0.6221791733924185 represents the R-squared value (coefficient of determination) of the linear regression model. It implies that approximately 62.2% of the variance in insurance charges can be explained by the smoker attribute alone. This indicates a moderate level of explanatory power of the model with respect to predicting charges based on smoking status."
   ]
  },
  {
   "cell_type": "code",
   "execution_count": 32,
   "id": "1147b249-5ab3-4e06-bcdb-cba9ff3d5175",
   "metadata": {},
   "outputs": [
    {
     "name": "stdout",
     "output_type": "stream",
     "text": [
      "0.7504083820289634\n"
     ]
    }
   ],
   "source": [
    "# definition of Y and lm remain same as used in last cell. \n",
    "Z = df[[\"age\", \"gender\", \"body_mass_index\", \"no_of_children\", \"smoker\", \"region\"]]\n",
    "lm.fit(Z,Y)\n",
    "print(lm.score(Z, Y))"
   ]
  },
  {
   "cell_type": "code",
   "execution_count": 33,
   "id": "3649ef6c-67fa-4ba7-8f10-8645027a1859",
   "metadata": {},
   "outputs": [],
   "source": [
    "#The R-squared value of 0.750 means that approximately 75.0% of the variance in insurance charges can be explained by using all attributes in the dataset, compared to 62.2% when using only the smoker attribute. This improvement indicates that the additional attributes provide a better overall explanation for the variability in insurance charges, suggesting a more robust and accurate model."
   ]
  },
  {
   "cell_type": "code",
   "execution_count": 34,
   "id": "fdda2297-8f44-442d-9919-2e563e1beab7",
   "metadata": {},
   "outputs": [
    {
     "name": "stdout",
     "output_type": "stream",
     "text": [
      "0.845248299883597\n"
     ]
    }
   ],
   "source": [
    "# Y and Z use the same values as defined in previous cells \n",
    "Input=[('scale',StandardScaler()), ('polynomial', PolynomialFeatures(include_bias=False)), ('model', LinearRegression())]\n",
    "pipe=Pipeline(Input)\n",
    "Z = Z.astype(float)\n",
    "pipe.fit(Z,Y)\n",
    "ypipe=pipe.predict(Z)\n",
    "print(r2_score(Y,ypipe))"
   ]
  },
  {
   "cell_type": "code",
   "execution_count": 35,
   "id": "4821e879-a4e3-4ab5-a5df-94f8d6ab85e2",
   "metadata": {},
   "outputs": [],
   "source": [
    "#This higher R-squared value demonstrates that the model can more effectively capture and explain the variability in insurance charges, resulting in a more accurate prediction."
   ]
  },
  {
   "cell_type": "code",
   "execution_count": 36,
   "id": "27979fbe-7679-4ed8-a451-8ec11d5f1c42",
   "metadata": {},
   "outputs": [],
   "source": [
    "#Model refinement\n",
    "# Z and Y hold same values as in previous cells\n",
    "x_train, x_test, y_train, y_test = train_test_split(Z, Y, test_size=0.2, random_state=1)"
   ]
  },
  {
   "cell_type": "code",
   "execution_count": 37,
   "id": "52f305d6-b49c-41a9-bb5d-e8d53ba440e5",
   "metadata": {},
   "outputs": [
    {
     "name": "stdout",
     "output_type": "stream",
     "text": [
      "0.6760807731582404\n"
     ]
    }
   ],
   "source": [
    "# x_train, x_test, y_train, y_test hold same values as in previous cells\n",
    "RidgeModel=Ridge(alpha=0.1)\n",
    "RidgeModel.fit(x_train, y_train)\n",
    "yhat = RidgeModel.predict(x_test)\n",
    "print(r2_score(y_test,yhat))"
   ]
  },
  {
   "cell_type": "code",
   "execution_count": 38,
   "id": "c8a3b7bd-9605-4e95-a949-504d1cddbd61",
   "metadata": {},
   "outputs": [],
   "source": [
    "#The R-squared value of 0.676 means that approximately 67.6% of the variance in insurance charges is explained by the Ridge regression model on the testing data. This score indicates how well the model generalizes to new, unseen data\n",
    "#Model Implication: The Ridge regression model provides a moderately good fit, but there may still be room for improvement. This score implies that while Ridge regression improves over simpler models, it may not fully capture all the nuances of the data without additional feature engineering or parameter tuning."
   ]
  },
  {
   "cell_type": "code",
   "execution_count": 39,
   "id": "321ac57b-acf1-4701-aaa0-01acf020ba14",
   "metadata": {},
   "outputs": [
    {
     "name": "stdout",
     "output_type": "stream",
     "text": [
      "0.783563110760815\n"
     ]
    }
   ],
   "source": [
    "# x_train, x_test, y_train, y_test hold same values as in previous cells\n",
    "pr = PolynomialFeatures(degree=2)\n",
    "x_train_pr = pr.fit_transform(x_train)\n",
    "x_test_pr = pr.fit_transform(x_test)\n",
    "RidgeModel.fit(x_train_pr, y_train)\n",
    "y_hat = RidgeModel.predict(x_test_pr)\n",
    "print(r2_score(y_test,y_hat))"
   ]
  },
  {
   "cell_type": "code",
   "execution_count": 40,
   "id": "31cacabe-1e27-42a0-a844-7748aaeb37f9",
   "metadata": {},
   "outputs": [],
   "source": [
    "#Model Performance: The result demonstrates that polynomial transformations can improve model performance by better capturing relationships in the data, though it is still slightly lower than the score obtained with PolynomialFeatures() and LinearRegression() (which was 0.845). This suggests that while polynomial transformations are beneficial, the choice of regression method and hyperparameters also plays a critical role in model performance."
   ]
  },
  {
   "cell_type": "code",
   "execution_count": null,
   "id": "f7a003b4-e097-4cb0-8ac2-a168c8e0238c",
   "metadata": {},
   "outputs": [],
   "source": [
    "#SUMMARIZED REPORT ON THE SLIDE ATTACHED TO THIS FILE"
   ]
  }
 ],
 "metadata": {
  "kernelspec": {
   "display_name": "Python 3 (ipykernel)",
   "language": "python",
   "name": "python3"
  },
  "language_info": {
   "codemirror_mode": {
    "name": "ipython",
    "version": 3
   },
   "file_extension": ".py",
   "mimetype": "text/x-python",
   "name": "python",
   "nbconvert_exporter": "python",
   "pygments_lexer": "ipython3",
   "version": "3.12.3"
  }
 },
 "nbformat": 4,
 "nbformat_minor": 5
}
